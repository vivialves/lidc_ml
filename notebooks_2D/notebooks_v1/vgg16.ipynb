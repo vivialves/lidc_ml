{
 "cells": [
  {
   "cell_type": "markdown",
   "id": "f6d4888f",
   "metadata": {},
   "source": [
    "# LIDC"
   ]
  },
  {
   "cell_type": "markdown",
   "id": "41c6022c",
   "metadata": {},
   "source": [
    "# CNN - Vgg16"
   ]
  },
  {
   "cell_type": "code",
   "execution_count": 14,
   "id": "b5b4c5e6",
   "metadata": {},
   "outputs": [],
   "source": [
    "import os\n",
    "import pandas as pd\n",
    "import numpy as np\n",
    "import time\n",
    "\n",
    "import torch\n",
    "import torchvision\n",
    "import torch.nn as nn\n",
    "import torch.optim as optim\n",
    "\n",
    "\n",
    "import matplotlib.pyplot as plt\n",
    "\n",
    "from torchvision import models\n",
    "from torchinfo import summary\n",
    "from torchvision import datasets, transforms\n",
    "from torch.utils.data import random_split, DataLoader, Dataset\n",
    "from torchmetrics.classification import MulticlassConfusionMatrix, MulticlassPrecision, MulticlassRecall, MulticlassF1Score\n",
    "from sklearn.metrics import confusion_matrix, ConfusionMatrixDisplay, classification_report "
   ]
  },
  {
   "cell_type": "markdown",
   "id": "a1677b17",
   "metadata": {},
   "source": [
    "## checking if Gpu were recognized"
   ]
  },
  {
   "cell_type": "code",
   "execution_count": 15,
   "id": "ebe41df8",
   "metadata": {},
   "outputs": [
    {
     "name": "stdout",
     "output_type": "stream",
     "text": [
      "PyTorch is using GPU!\n",
      "NVIDIA GeForce RTX 3050 Ti Laptop GPU\n"
     ]
    }
   ],
   "source": [
    "if torch.cuda.is_available():\n",
    "    device = torch.device(\"cuda\")\n",
    "    print(\"PyTorch is using GPU!\")\n",
    "    print(torch.cuda.get_device_name(0)) #prints the name of the GPU.\n",
    "else:\n",
    "    device = torch.device(\"cpu\")\n",
    "    print(\"PyTorch is using CPU.\")"
   ]
  },
  {
   "cell_type": "markdown",
   "id": "333ffa2a",
   "metadata": {},
   "source": [
    "# Loading Dataset"
   ]
  },
  {
   "cell_type": "markdown",
   "id": "5f724b46",
   "metadata": {},
   "source": [
    "## Training dataset"
   ]
  },
  {
   "cell_type": "code",
   "execution_count": 16,
   "id": "5ef959c7",
   "metadata": {},
   "outputs": [],
   "source": [
    "path_train = os.path.realpath('data/LIDC_pre/train')"
   ]
  },
  {
   "cell_type": "code",
   "execution_count": 17,
   "id": "cdf42311",
   "metadata": {},
   "outputs": [
    {
     "name": "stdout",
     "output_type": "stream",
     "text": [
      "['cancer', 'non-cancer']\n"
     ]
    }
   ],
   "source": [
    "dataset = datasets.ImageFolder(\n",
    "    root=path_train, \n",
    "    transform=transforms.ToTensor()\n",
    ")\n",
    "classes = dataset.classes\n",
    "print(classes)"
   ]
  },
  {
   "cell_type": "code",
   "execution_count": 18,
   "id": "7226a89f",
   "metadata": {},
   "outputs": [
    {
     "data": {
      "text/plain": [
       "148"
      ]
     },
     "execution_count": 18,
     "metadata": {},
     "output_type": "execute_result"
    }
   ],
   "source": [
    "len(dataset)"
   ]
  },
  {
   "cell_type": "markdown",
   "id": "42b5f5ef",
   "metadata": {},
   "source": [
    "## Test dataset"
   ]
  },
  {
   "cell_type": "code",
   "execution_count": 19,
   "id": "9da9c746",
   "metadata": {},
   "outputs": [],
   "source": [
    "path_test = os.path.realpath('data/LIDC_pre/test')"
   ]
  },
  {
   "cell_type": "code",
   "execution_count": 20,
   "id": "05e5c219",
   "metadata": {},
   "outputs": [],
   "source": [
    "train_dir = path_train\n",
    "val_dir = path_test"
   ]
  },
  {
   "cell_type": "markdown",
   "id": "69f0a313",
   "metadata": {},
   "source": [
    "# Preprocessing"
   ]
  },
  {
   "cell_type": "code",
   "execution_count": 21,
   "id": "f133fb9f",
   "metadata": {},
   "outputs": [],
   "source": [
    "IMAGE_SIZE = 256\n",
    "BATCH_SIZE = 32"
   ]
  },
  {
   "cell_type": "code",
   "execution_count": 22,
   "id": "0193b108",
   "metadata": {},
   "outputs": [
    {
     "name": "stdout",
     "output_type": "stream",
     "text": [
      "Training samples: 118, , Validation samples: 30, Test samples: 52\n"
     ]
    }
   ],
   "source": [
    "# Define data augmentation for the training dataset\n",
    "train_transforms = transforms.Compose([\n",
    "    transforms.Resize((IMAGE_SIZE, IMAGE_SIZE)),\n",
    "    transforms.ToTensor(),                      \n",
    "    transforms.Normalize(mean=[0.5, 0.5, 0.5], std=[0.5, 0.5, 0.5]) # Normalization\n",
    "])\n",
    "\n",
    "# Define validation dataset - no augmentation, only resizing and normalization\n",
    "test_transforms = transforms.Compose([\n",
    "    transforms.Resize((IMAGE_SIZE, IMAGE_SIZE)),\n",
    "    transforms.ToTensor(),\n",
    "    transforms.Normalize(mean=[0.5, 0.5, 0.5], std=[0.5, 0.5, 0.5])\n",
    "])\n",
    "\n",
    "\n",
    "# split train_dataset and load\n",
    "train_dataset = torchvision.datasets.ImageFolder(root=train_dir, transform=train_transforms)\n",
    "test_dataset = torchvision.datasets.ImageFolder(root=val_dir, transform=test_transforms)\n",
    "\n",
    "train_size = int(0.8 * len(train_dataset))  # 80% for training\n",
    "val_size = len(train_dataset) - train_size  # Remaining for testing\n",
    "\n",
    "train_dataset, val_dataset = random_split(train_dataset, [train_size, val_size])\n",
    "\n",
    "# Define loaders\n",
    "train_loader = DataLoader(train_dataset, batch_size=BATCH_SIZE, shuffle=True)\n",
    "val_loader = DataLoader(val_dataset, batch_size=BATCH_SIZE, shuffle=False)\n",
    "test_loader = DataLoader(test_dataset, batch_size=BATCH_SIZE, shuffle=True)\n",
    "\n",
    "\n",
    "print(f'Training samples: {len(train_dataset)}, , Validation samples: {len(val_dataset)}, Test samples: {len(test_dataset)}')"
   ]
  },
  {
   "cell_type": "markdown",
   "id": "89dfda1c",
   "metadata": {},
   "source": [
    "# Architecture"
   ]
  },
  {
   "cell_type": "code",
   "execution_count": 23,
   "id": "9b5906e8",
   "metadata": {},
   "outputs": [
    {
     "name": "stdout",
     "output_type": "stream",
     "text": [
      "VGG(\n",
      "  (features): Sequential(\n",
      "    (0): Conv2d(3, 64, kernel_size=(3, 3), stride=(1, 1), padding=(1, 1))\n",
      "    (1): ReLU(inplace=True)\n",
      "    (2): Conv2d(64, 64, kernel_size=(3, 3), stride=(1, 1), padding=(1, 1))\n",
      "    (3): ReLU(inplace=True)\n",
      "    (4): MaxPool2d(kernel_size=2, stride=2, padding=0, dilation=1, ceil_mode=False)\n",
      "    (5): Conv2d(64, 128, kernel_size=(3, 3), stride=(1, 1), padding=(1, 1))\n",
      "    (6): ReLU(inplace=True)\n",
      "    (7): Conv2d(128, 128, kernel_size=(3, 3), stride=(1, 1), padding=(1, 1))\n",
      "    (8): ReLU(inplace=True)\n",
      "    (9): MaxPool2d(kernel_size=2, stride=2, padding=0, dilation=1, ceil_mode=False)\n",
      "    (10): Conv2d(128, 256, kernel_size=(3, 3), stride=(1, 1), padding=(1, 1))\n",
      "    (11): ReLU(inplace=True)\n",
      "    (12): Conv2d(256, 256, kernel_size=(3, 3), stride=(1, 1), padding=(1, 1))\n",
      "    (13): ReLU(inplace=True)\n",
      "    (14): Conv2d(256, 256, kernel_size=(3, 3), stride=(1, 1), padding=(1, 1))\n",
      "    (15): ReLU(inplace=True)\n",
      "    (16): MaxPool2d(kernel_size=2, stride=2, padding=0, dilation=1, ceil_mode=False)\n",
      "    (17): Conv2d(256, 512, kernel_size=(3, 3), stride=(1, 1), padding=(1, 1))\n",
      "    (18): ReLU(inplace=True)\n",
      "    (19): Conv2d(512, 512, kernel_size=(3, 3), stride=(1, 1), padding=(1, 1))\n",
      "    (20): ReLU(inplace=True)\n",
      "    (21): Conv2d(512, 512, kernel_size=(3, 3), stride=(1, 1), padding=(1, 1))\n",
      "    (22): ReLU(inplace=True)\n",
      "    (23): MaxPool2d(kernel_size=2, stride=2, padding=0, dilation=1, ceil_mode=False)\n",
      "    (24): Conv2d(512, 512, kernel_size=(3, 3), stride=(1, 1), padding=(1, 1))\n",
      "    (25): ReLU(inplace=True)\n",
      "    (26): Conv2d(512, 512, kernel_size=(3, 3), stride=(1, 1), padding=(1, 1))\n",
      "    (27): ReLU(inplace=True)\n",
      "    (28): Conv2d(512, 512, kernel_size=(3, 3), stride=(1, 1), padding=(1, 1))\n",
      "    (29): ReLU(inplace=True)\n",
      "    (30): MaxPool2d(kernel_size=2, stride=2, padding=0, dilation=1, ceil_mode=False)\n",
      "  )\n",
      "  (avgpool): AdaptiveAvgPool2d(output_size=(7, 7))\n",
      "  (classifier): Sequential(\n",
      "    (0): Linear(in_features=25088, out_features=4096, bias=True)\n",
      "    (1): ReLU(inplace=True)\n",
      "    (2): Dropout(p=0.5, inplace=False)\n",
      "    (3): Linear(in_features=4096, out_features=4096, bias=True)\n",
      "    (4): ReLU(inplace=True)\n",
      "    (5): Dropout(p=0.5, inplace=False)\n",
      "    (6): Linear(in_features=4096, out_features=2, bias=True)\n",
      "  )\n",
      ")\n"
     ]
    }
   ],
   "source": [
    "device = torch.device(\"cuda\" if torch.cuda.is_available() else \"cpu\")\n",
    "num_classes = 2\n",
    "\n",
    "model = models.vgg16(weights=None) \n",
    "model.classifier[6] = nn.Linear(4096, num_classes)\n",
    "model = model.to(device)\n",
    "\n",
    "print(model)\n",
    "\n",
    "criterion = nn.CrossEntropyLoss()\n",
    "optimizer = optim.SGD(model.parameters(), lr=0.01, momentum=0.9)"
   ]
  },
  {
   "cell_type": "code",
   "execution_count": 24,
   "id": "800e1e15",
   "metadata": {},
   "outputs": [
    {
     "data": {
      "text/plain": [
       "==========================================================================================\n",
       "Layer (type:depth-idx)                   Output Shape              Param #\n",
       "==========================================================================================\n",
       "VGG                                      [32, 2]                   --\n",
       "├─Sequential: 1-1                        [32, 512, 8, 8]           --\n",
       "│    └─Conv2d: 2-1                       [32, 64, 256, 256]        1,792\n",
       "│    └─ReLU: 2-2                         [32, 64, 256, 256]        --\n",
       "│    └─Conv2d: 2-3                       [32, 64, 256, 256]        36,928\n",
       "│    └─ReLU: 2-4                         [32, 64, 256, 256]        --\n",
       "│    └─MaxPool2d: 2-5                    [32, 64, 128, 128]        --\n",
       "│    └─Conv2d: 2-6                       [32, 128, 128, 128]       73,856\n",
       "│    └─ReLU: 2-7                         [32, 128, 128, 128]       --\n",
       "│    └─Conv2d: 2-8                       [32, 128, 128, 128]       147,584\n",
       "│    └─ReLU: 2-9                         [32, 128, 128, 128]       --\n",
       "│    └─MaxPool2d: 2-10                   [32, 128, 64, 64]         --\n",
       "│    └─Conv2d: 2-11                      [32, 256, 64, 64]         295,168\n",
       "│    └─ReLU: 2-12                        [32, 256, 64, 64]         --\n",
       "│    └─Conv2d: 2-13                      [32, 256, 64, 64]         590,080\n",
       "│    └─ReLU: 2-14                        [32, 256, 64, 64]         --\n",
       "│    └─Conv2d: 2-15                      [32, 256, 64, 64]         590,080\n",
       "│    └─ReLU: 2-16                        [32, 256, 64, 64]         --\n",
       "│    └─MaxPool2d: 2-17                   [32, 256, 32, 32]         --\n",
       "│    └─Conv2d: 2-18                      [32, 512, 32, 32]         1,180,160\n",
       "│    └─ReLU: 2-19                        [32, 512, 32, 32]         --\n",
       "│    └─Conv2d: 2-20                      [32, 512, 32, 32]         2,359,808\n",
       "│    └─ReLU: 2-21                        [32, 512, 32, 32]         --\n",
       "│    └─Conv2d: 2-22                      [32, 512, 32, 32]         2,359,808\n",
       "│    └─ReLU: 2-23                        [32, 512, 32, 32]         --\n",
       "│    └─MaxPool2d: 2-24                   [32, 512, 16, 16]         --\n",
       "│    └─Conv2d: 2-25                      [32, 512, 16, 16]         2,359,808\n",
       "│    └─ReLU: 2-26                        [32, 512, 16, 16]         --\n",
       "│    └─Conv2d: 2-27                      [32, 512, 16, 16]         2,359,808\n",
       "│    └─ReLU: 2-28                        [32, 512, 16, 16]         --\n",
       "│    └─Conv2d: 2-29                      [32, 512, 16, 16]         2,359,808\n",
       "│    └─ReLU: 2-30                        [32, 512, 16, 16]         --\n",
       "│    └─MaxPool2d: 2-31                   [32, 512, 8, 8]           --\n",
       "├─AdaptiveAvgPool2d: 1-2                 [32, 512, 7, 7]           --\n",
       "├─Sequential: 1-3                        [32, 2]                   --\n",
       "│    └─Linear: 2-32                      [32, 4096]                102,764,544\n",
       "│    └─ReLU: 2-33                        [32, 4096]                --\n",
       "│    └─Dropout: 2-34                     [32, 4096]                --\n",
       "│    └─Linear: 2-35                      [32, 4096]                16,781,312\n",
       "│    └─ReLU: 2-36                        [32, 4096]                --\n",
       "│    └─Dropout: 2-37                     [32, 4096]                --\n",
       "│    └─Linear: 2-38                      [32, 2]                   8,194\n",
       "==========================================================================================\n",
       "Total params: 134,268,738\n",
       "Trainable params: 134,268,738\n",
       "Non-trainable params: 0\n",
       "Total mult-adds (Units.GIGABYTES): 645.82\n",
       "==========================================================================================\n",
       "Input size (MB): 25.17\n",
       "Forward/backward pass size (MB): 4531.95\n",
       "Params size (MB): 537.07\n",
       "Estimated Total Size (MB): 5094.19\n",
       "=========================================================================================="
      ]
     },
     "execution_count": 24,
     "metadata": {},
     "output_type": "execute_result"
    }
   ],
   "source": [
    "summary(model, input_size=(BATCH_SIZE, 3, 256, 256))"
   ]
  },
  {
   "cell_type": "markdown",
   "id": "b604f93e",
   "metadata": {},
   "source": [
    "# Trainning"
   ]
  },
  {
   "cell_type": "code",
   "execution_count": 25,
   "id": "3b89372e",
   "metadata": {},
   "outputs": [],
   "source": [
    "def train_model(model, train_loader, val_loader, criterion, optimizer, num_epochs):\n",
    "    train_losses = []\n",
    "    val_losses = []\n",
    "    train_accuracies = []\n",
    "    val_accuracies = []\n",
    "\n",
    "    # Metrics\n",
    "    confusion_matrix = MulticlassConfusionMatrix(num_classes=2)\n",
    "    precision = MulticlassPrecision(num_classes=10, average='macro')\n",
    "    recall = MulticlassRecall(num_classes=10, average='macro')\n",
    "    f1_score = MulticlassF1Score(num_classes=10, average='macro')\n",
    "\n",
    "    for epoch in range(num_epochs):\n",
    "        # Training\n",
    "        model.train()\n",
    "        train_loss = 0.0\n",
    "        correct_train = 0\n",
    "        total_train = 0\n",
    "\n",
    "        for inputs, labels in train_loader:\n",
    "            inputs, labels = inputs.to(device), labels.to(device)\n",
    "\n",
    "            # Clear gradients\n",
    "            optimizer.zero_grad()\n",
    "\n",
    "            # feed foward\n",
    "            outputs = model(inputs)\n",
    "            \n",
    "            # Compute loss using cross entropy\n",
    "            loss = criterion(outputs, labels)\n",
    "\n",
    "            # backpropagation\n",
    "            loss.backward()\n",
    "\n",
    "            # Update weights\n",
    "            optimizer.step()\n",
    "\n",
    "            # Update results\n",
    "            train_loss += loss.item()\n",
    "            _, preds = torch.max(outputs, 1)\n",
    "            total_train += labels.size(0)\n",
    "            correct_train += (preds == labels).sum().item()\n",
    "\n",
    "        train_losses.append(train_loss / len(train_loader))\n",
    "        train_accuracies.append(100 * correct_train / total_train)\n",
    "\n",
    "        # Evaluation part to print metrics for each epoch\n",
    "        model.eval()\n",
    "        val_loss = 0.0\n",
    "        correct_val = 0\n",
    "        total_val = 0\n",
    "\n",
    "        all_preds = []\n",
    "        all_labels = []\n",
    "\n",
    "        with torch.no_grad():\n",
    "            for inputs, labels in val_loader:\n",
    "                inputs, labels = inputs.to(device), labels.to(device)\n",
    "                outputs = model(inputs)\n",
    "                loss = criterion(outputs, labels)\n",
    "                val_loss += loss.item()\n",
    "\n",
    "                _, preds = torch.max(outputs, 1)\n",
    "                total_val += labels.size(0)\n",
    "                correct_val += (preds == labels).sum().item()\n",
    "\n",
    "                # For metrics\n",
    "                all_preds.append(preds.cpu())\n",
    "                all_labels.append(labels.cpu())\n",
    "\n",
    "        val_losses.append(val_loss / len(val_loader))\n",
    "        val_accuracies.append(100 * correct_val / total_val)\n",
    "\n",
    "        \n",
    "        all_preds = torch.cat(all_preds)\n",
    "        all_labels = torch.cat(all_labels)\n",
    "\n",
    "        \n",
    "        precision_value = precision(all_preds, all_labels)\n",
    "        recall_value = recall(all_preds, all_labels)\n",
    "        f1_value = f1_score(all_preds, all_labels)\n",
    "        conf_matrix = confusion_matrix(all_preds, all_labels)\n",
    "\n",
    "        \n",
    "        print(f\"Epoch {epoch + 1}/{num_epochs}\")\n",
    "        print(f\"Train Loss: {train_losses[-1]:.4f} | Train Acc: {train_accuracies[-1]:.2f}%\")\n",
    "        print(f\"Val Loss: {val_losses[-1]:.4f} | Val Acc: {val_accuracies[-1]:.2f}%\")\n",
    "        print(f\"Precision: {precision_value:.4f} | Recall: {recall_value:.4f} | F1 Score: {f1_value:.4f}\\n\")\n",
    "\n",
    "    return train_losses, val_losses, train_accuracies, val_accuracies, conf_matrix"
   ]
  },
  {
   "cell_type": "code",
   "execution_count": 26,
   "id": "efa572ca",
   "metadata": {},
   "outputs": [
    {
     "name": "stdout",
     "output_type": "stream",
     "text": [
      "Using device: cuda\n",
      "Epoch 1/50\n",
      "Train Loss: 0.5955 | Train Acc: 78.81%\n",
      "Val Loss: 0.5134 | Val Acc: 83.33%\n",
      "Precision: 0.4167 | Recall: 0.5000 | F1 Score: 0.4545\n",
      "\n",
      "Epoch 2/50\n",
      "Train Loss: 0.5323 | Train Acc: 81.36%\n",
      "Val Loss: 0.5231 | Val Acc: 83.33%\n",
      "Precision: 0.4167 | Recall: 0.5000 | F1 Score: 0.4545\n",
      "\n",
      "Epoch 3/50\n",
      "Train Loss: 0.4828 | Train Acc: 81.36%\n",
      "Val Loss: 0.4931 | Val Acc: 83.33%\n",
      "Precision: 0.4167 | Recall: 0.5000 | F1 Score: 0.4545\n",
      "\n",
      "Epoch 4/50\n",
      "Train Loss: 0.5264 | Train Acc: 81.36%\n",
      "Val Loss: 0.5343 | Val Acc: 83.33%\n",
      "Precision: 0.4167 | Recall: 0.5000 | F1 Score: 0.4545\n",
      "\n",
      "Epoch 5/50\n",
      "Train Loss: 0.5488 | Train Acc: 81.36%\n",
      "Val Loss: 0.5374 | Val Acc: 83.33%\n",
      "Precision: 0.4167 | Recall: 0.5000 | F1 Score: 0.4545\n",
      "\n",
      "Epoch 6/50\n",
      "Train Loss: 0.5684 | Train Acc: 81.36%\n",
      "Val Loss: 0.4611 | Val Acc: 83.33%\n",
      "Precision: 0.4167 | Recall: 0.5000 | F1 Score: 0.4545\n",
      "\n",
      "Epoch 7/50\n",
      "Train Loss: 0.4809 | Train Acc: 81.36%\n",
      "Val Loss: 0.4853 | Val Acc: 83.33%\n",
      "Precision: 0.4167 | Recall: 0.5000 | F1 Score: 0.4545\n",
      "\n",
      "Epoch 8/50\n",
      "Train Loss: 0.4971 | Train Acc: 81.36%\n",
      "Val Loss: 0.4574 | Val Acc: 83.33%\n",
      "Precision: 0.4167 | Recall: 0.5000 | F1 Score: 0.4545\n",
      "\n",
      "Epoch 9/50\n",
      "Train Loss: 0.4797 | Train Acc: 81.36%\n",
      "Val Loss: 0.4624 | Val Acc: 83.33%\n",
      "Precision: 0.4167 | Recall: 0.5000 | F1 Score: 0.4545\n",
      "\n",
      "Epoch 10/50\n",
      "Train Loss: 0.4871 | Train Acc: 81.36%\n",
      "Val Loss: 0.4572 | Val Acc: 83.33%\n",
      "Precision: 0.4167 | Recall: 0.5000 | F1 Score: 0.4545\n",
      "\n",
      "Epoch 11/50\n",
      "Train Loss: 0.4810 | Train Acc: 81.36%\n",
      "Val Loss: 0.4584 | Val Acc: 83.33%\n",
      "Precision: 0.4167 | Recall: 0.5000 | F1 Score: 0.4545\n",
      "\n",
      "Epoch 12/50\n",
      "Train Loss: 0.4766 | Train Acc: 81.36%\n",
      "Val Loss: 0.4582 | Val Acc: 83.33%\n",
      "Precision: 0.4167 | Recall: 0.5000 | F1 Score: 0.4545\n",
      "\n",
      "Epoch 13/50\n",
      "Train Loss: 0.4726 | Train Acc: 81.36%\n",
      "Val Loss: 0.4545 | Val Acc: 83.33%\n",
      "Precision: 0.4167 | Recall: 0.5000 | F1 Score: 0.4545\n",
      "\n",
      "Epoch 14/50\n",
      "Train Loss: 0.4856 | Train Acc: 81.36%\n",
      "Val Loss: 0.4537 | Val Acc: 83.33%\n",
      "Precision: 0.4167 | Recall: 0.5000 | F1 Score: 0.4545\n",
      "\n",
      "Epoch 15/50\n",
      "Train Loss: 0.4715 | Train Acc: 81.36%\n",
      "Val Loss: 0.4548 | Val Acc: 83.33%\n",
      "Precision: 0.4167 | Recall: 0.5000 | F1 Score: 0.4545\n",
      "\n",
      "Epoch 16/50\n",
      "Train Loss: 0.4779 | Train Acc: 81.36%\n",
      "Val Loss: 0.4540 | Val Acc: 83.33%\n",
      "Precision: 0.4167 | Recall: 0.5000 | F1 Score: 0.4545\n",
      "\n",
      "Epoch 17/50\n",
      "Train Loss: 0.4658 | Train Acc: 81.36%\n",
      "Val Loss: 0.4522 | Val Acc: 83.33%\n",
      "Precision: 0.4167 | Recall: 0.5000 | F1 Score: 0.4545\n",
      "\n",
      "Epoch 18/50\n",
      "Train Loss: 0.4604 | Train Acc: 81.36%\n",
      "Val Loss: 0.4517 | Val Acc: 83.33%\n",
      "Precision: 0.4167 | Recall: 0.5000 | F1 Score: 0.4545\n",
      "\n",
      "Epoch 19/50\n",
      "Train Loss: 0.4907 | Train Acc: 81.36%\n",
      "Val Loss: 0.4530 | Val Acc: 83.33%\n",
      "Precision: 0.4167 | Recall: 0.5000 | F1 Score: 0.4545\n",
      "\n",
      "Epoch 20/50\n",
      "Train Loss: 0.4705 | Train Acc: 81.36%\n",
      "Val Loss: 0.4625 | Val Acc: 83.33%\n",
      "Precision: 0.4167 | Recall: 0.5000 | F1 Score: 0.4545\n",
      "\n",
      "Epoch 21/50\n",
      "Train Loss: 0.4781 | Train Acc: 81.36%\n",
      "Val Loss: 0.4621 | Val Acc: 83.33%\n",
      "Precision: 0.4167 | Recall: 0.5000 | F1 Score: 0.4545\n",
      "\n",
      "Epoch 22/50\n",
      "Train Loss: 0.4500 | Train Acc: 81.36%\n",
      "Val Loss: 0.4596 | Val Acc: 83.33%\n",
      "Precision: 0.4167 | Recall: 0.5000 | F1 Score: 0.4545\n",
      "\n",
      "Epoch 23/50\n",
      "Train Loss: 0.4594 | Train Acc: 81.36%\n",
      "Val Loss: 0.4580 | Val Acc: 83.33%\n",
      "Precision: 0.4167 | Recall: 0.5000 | F1 Score: 0.4545\n",
      "\n",
      "Epoch 24/50\n",
      "Train Loss: 0.4495 | Train Acc: 81.36%\n",
      "Val Loss: 0.4617 | Val Acc: 83.33%\n",
      "Precision: 0.4167 | Recall: 0.5000 | F1 Score: 0.4545\n",
      "\n",
      "Epoch 25/50\n",
      "Train Loss: 0.4381 | Train Acc: 81.36%\n",
      "Val Loss: 0.4754 | Val Acc: 83.33%\n",
      "Precision: 0.4167 | Recall: 0.5000 | F1 Score: 0.4545\n",
      "\n",
      "Epoch 26/50\n",
      "Train Loss: 0.4381 | Train Acc: 81.36%\n",
      "Val Loss: 0.4765 | Val Acc: 83.33%\n",
      "Precision: 0.4167 | Recall: 0.5000 | F1 Score: 0.4545\n",
      "\n",
      "Epoch 27/50\n",
      "Train Loss: 0.4262 | Train Acc: 81.36%\n",
      "Val Loss: 0.4844 | Val Acc: 83.33%\n",
      "Precision: 0.4167 | Recall: 0.5000 | F1 Score: 0.4545\n",
      "\n",
      "Epoch 28/50\n",
      "Train Loss: 0.3958 | Train Acc: 82.20%\n",
      "Val Loss: 0.5100 | Val Acc: 86.67%\n",
      "Precision: 0.9310 | Recall: 0.6000 | F1 Score: 0.6296\n",
      "\n",
      "Epoch 29/50\n",
      "Train Loss: 0.4069 | Train Acc: 82.20%\n",
      "Val Loss: 0.5275 | Val Acc: 86.67%\n",
      "Precision: 0.9310 | Recall: 0.6000 | F1 Score: 0.6296\n",
      "\n",
      "Epoch 30/50\n",
      "Train Loss: 0.4428 | Train Acc: 81.36%\n",
      "Val Loss: 0.5062 | Val Acc: 83.33%\n",
      "Precision: 0.6786 | Recall: 0.5800 | F1 Score: 0.5957\n",
      "\n",
      "Epoch 31/50\n",
      "Train Loss: 0.4526 | Train Acc: 78.81%\n",
      "Val Loss: 0.4783 | Val Acc: 86.67%\n",
      "Precision: 0.9310 | Recall: 0.6000 | F1 Score: 0.6296\n",
      "\n",
      "Epoch 32/50\n",
      "Train Loss: 0.4158 | Train Acc: 82.20%\n",
      "Val Loss: 0.4885 | Val Acc: 83.33%\n",
      "Precision: 0.4167 | Recall: 0.5000 | F1 Score: 0.4545\n",
      "\n",
      "Epoch 33/50\n",
      "Train Loss: 0.4357 | Train Acc: 82.20%\n",
      "Val Loss: 0.4761 | Val Acc: 86.67%\n",
      "Precision: 0.9310 | Recall: 0.6000 | F1 Score: 0.6296\n",
      "\n",
      "Epoch 34/50\n",
      "Train Loss: 0.4222 | Train Acc: 79.66%\n",
      "Val Loss: 0.4850 | Val Acc: 86.67%\n",
      "Precision: 0.9310 | Recall: 0.6000 | F1 Score: 0.6296\n",
      "\n",
      "Epoch 35/50\n",
      "Train Loss: 0.3938 | Train Acc: 83.05%\n",
      "Val Loss: 0.5153 | Val Acc: 83.33%\n",
      "Precision: 0.4167 | Recall: 0.5000 | F1 Score: 0.4545\n",
      "\n",
      "Epoch 36/50\n",
      "Train Loss: 0.4226 | Train Acc: 81.36%\n",
      "Val Loss: 0.4795 | Val Acc: 86.67%\n",
      "Precision: 0.9310 | Recall: 0.6000 | F1 Score: 0.6296\n",
      "\n",
      "Epoch 37/50\n",
      "Train Loss: 0.3944 | Train Acc: 81.36%\n",
      "Val Loss: 0.5036 | Val Acc: 86.67%\n",
      "Precision: 0.9310 | Recall: 0.6000 | F1 Score: 0.6296\n",
      "\n",
      "Epoch 38/50\n",
      "Train Loss: 0.3745 | Train Acc: 83.90%\n",
      "Val Loss: 0.5666 | Val Acc: 86.67%\n",
      "Precision: 0.9310 | Recall: 0.6000 | F1 Score: 0.6296\n",
      "\n",
      "Epoch 39/50\n",
      "Train Loss: 0.4247 | Train Acc: 83.05%\n",
      "Val Loss: 0.5834 | Val Acc: 83.33%\n",
      "Precision: 0.6786 | Recall: 0.5800 | F1 Score: 0.5957\n",
      "\n",
      "Epoch 40/50\n",
      "Train Loss: 0.3816 | Train Acc: 83.05%\n",
      "Val Loss: 0.4668 | Val Acc: 86.67%\n",
      "Precision: 0.9310 | Recall: 0.6000 | F1 Score: 0.6296\n",
      "\n",
      "Epoch 41/50\n",
      "Train Loss: 0.3861 | Train Acc: 82.20%\n",
      "Val Loss: 0.4784 | Val Acc: 86.67%\n",
      "Precision: 0.9310 | Recall: 0.6000 | F1 Score: 0.6296\n",
      "\n",
      "Epoch 42/50\n",
      "Train Loss: 0.3897 | Train Acc: 83.90%\n",
      "Val Loss: 0.5484 | Val Acc: 83.33%\n",
      "Precision: 0.6786 | Recall: 0.5800 | F1 Score: 0.5957\n",
      "\n",
      "Epoch 43/50\n",
      "Train Loss: 0.3944 | Train Acc: 83.05%\n",
      "Val Loss: 0.5846 | Val Acc: 83.33%\n",
      "Precision: 0.6786 | Recall: 0.5800 | F1 Score: 0.5957\n",
      "\n",
      "Epoch 44/50\n",
      "Train Loss: 0.3972 | Train Acc: 85.59%\n",
      "Val Loss: 0.5921 | Val Acc: 86.67%\n",
      "Precision: 0.9310 | Recall: 0.6000 | F1 Score: 0.6296\n",
      "\n",
      "Epoch 45/50\n",
      "Train Loss: 0.3452 | Train Acc: 85.59%\n",
      "Val Loss: 0.5776 | Val Acc: 83.33%\n",
      "Precision: 0.6786 | Recall: 0.5800 | F1 Score: 0.5957\n",
      "\n",
      "Epoch 46/50\n",
      "Train Loss: 0.3159 | Train Acc: 87.29%\n",
      "Val Loss: 0.6155 | Val Acc: 86.67%\n",
      "Precision: 0.9310 | Recall: 0.6000 | F1 Score: 0.6296\n",
      "\n",
      "Epoch 47/50\n",
      "Train Loss: 0.3924 | Train Acc: 85.59%\n",
      "Val Loss: 0.7132 | Val Acc: 80.00%\n",
      "Precision: 0.5926 | Recall: 0.5600 | F1 Score: 0.5673\n",
      "\n",
      "Epoch 48/50\n",
      "Train Loss: 0.3651 | Train Acc: 84.75%\n",
      "Val Loss: 0.5184 | Val Acc: 86.67%\n",
      "Precision: 0.9310 | Recall: 0.6000 | F1 Score: 0.6296\n",
      "\n",
      "Epoch 49/50\n",
      "Train Loss: 0.3922 | Train Acc: 81.36%\n",
      "Val Loss: 0.5072 | Val Acc: 86.67%\n",
      "Precision: 0.9310 | Recall: 0.6000 | F1 Score: 0.6296\n",
      "\n",
      "Epoch 50/50\n",
      "Train Loss: 0.3452 | Train Acc: 86.44%\n",
      "Val Loss: 0.6162 | Val Acc: 83.33%\n",
      "Precision: 0.6786 | Recall: 0.5800 | F1 Score: 0.5957\n",
      "\n",
      "######## Training Finished in 3445.001621246338 seconds ###########\n"
     ]
    }
   ],
   "source": [
    "t1 = time.time()\n",
    "print(f\"Using device: {device}\")\n",
    "train_losses, val_losses, train_accuracies, val_accuracies, conf_matrix = train_model(\n",
    "    model, train_loader, val_loader, criterion, optimizer, num_epochs=50)\n",
    "\n",
    "print(\"######## Training Finished in {} seconds ###########\".format(time.time()-t1))"
   ]
  },
  {
   "cell_type": "markdown",
   "id": "e8466c98",
   "metadata": {},
   "source": [
    "# Evaluating"
   ]
  },
  {
   "cell_type": "code",
   "execution_count": 27,
   "id": "088fa271",
   "metadata": {},
   "outputs": [
    {
     "name": "stdout",
     "output_type": "stream",
     "text": [
      "Test Accuracy of the model on the 52 test images: 78.85%\n"
     ]
    }
   ],
   "source": [
    "model.eval() \n",
    "\n",
    "with torch.no_grad(): \n",
    "    correct = 0\n",
    "    total = 0\n",
    "    for data in test_loader:\n",
    "        images, labels = data[0].to(device), data[1].to(device)\n",
    "        outputs = model(images)\n",
    "        _, predicted = torch.max(outputs.data, 1)\n",
    "        total += labels.size(0)\n",
    "        correct += (predicted == labels).sum().item()\n",
    "    print(f'Test Accuracy of the model on the {total} test images: {(correct / total) * 100:.2f}%')"
   ]
  },
  {
   "cell_type": "code",
   "execution_count": 28,
   "id": "305a509f",
   "metadata": {},
   "outputs": [
    {
     "data": {
      "image/png": "[encoded data removed]",
      "text/plain": [
       "<Figure size 1200x500 with 2 Axes>"
      ]
     },
     "metadata": {},
     "output_type": "display_data"
    }
   ],
   "source": [
    "def plot_training(train_losses, val_losses, train_accuracies, val_accuracies):\n",
    "    epochs = range(1, len(train_losses) + 1)\n",
    "\n",
    "    plt.figure(figsize=(12, 5))\n",
    "    \n",
    "    # Plot loss\n",
    "    plt.subplot(1, 2, 1)\n",
    "    plt.plot(epochs, train_losses, label='Train Loss')\n",
    "    plt.plot(epochs, val_losses, label='Val Loss')\n",
    "    plt.xlabel('Epochs')\n",
    "    plt.ylabel('Loss')\n",
    "    plt.title('Training and Validation Loss')\n",
    "    plt.legend()\n",
    "\n",
    "    # Plot accuracy\n",
    "    plt.subplot(1, 2, 2)\n",
    "    plt.plot(epochs, train_accuracies, label='Train Accuracy')\n",
    "    plt.plot(epochs, val_accuracies, label='Val Accuracy')\n",
    "    plt.xlabel('Epochs')\n",
    "    plt.ylabel('Accuracy (%)')\n",
    "    plt.title('Training and Validation Accuracy')\n",
    "    plt.legend()\n",
    "\n",
    "    plt.show()\n",
    "\n",
    "plot_training(train_losses, val_losses, train_accuracies, val_accuracies)"
   ]
  },
  {
   "cell_type": "code",
   "execution_count": 29,
   "id": "8f17895c",
   "metadata": {},
   "outputs": [
    {
     "data": {
      "text/plain": [
       "<sklearn.metrics._plot.confusion_matrix.ConfusionMatrixDisplay at 0x7f3eb4372780>"
      ]
     },
     "execution_count": 29,
     "metadata": {},
     "output_type": "execute_result"
    },
    {
     "data": {
      "image/png": "[encoded data removed]",
      "text/plain": [
       "<Figure size 640x480 with 2 Axes>"
      ]
     },
     "metadata": {},
     "output_type": "display_data"
    }
   ],
   "source": [
    "cm = conf_matrix.cpu().numpy()\n",
    "disp = ConfusionMatrixDisplay(cm, display_labels=classes,)\n",
    "disp.plot()"
   ]
  },
  {
   "cell_type": "markdown",
   "id": "3be275ef",
   "metadata": {},
   "source": [
    "# Metrics"
   ]
  },
  {
   "cell_type": "code",
   "execution_count": 30,
   "id": "7f0c1911",
   "metadata": {},
   "outputs": [
    {
     "name": "stdout",
     "output_type": "stream",
     "text": [
      "Class 0-cancer: Precision: 0.50, Recall: 0.20, F1-Score: 0.29\n",
      "Class 1-non-cancer: Precision: 0.86, Recall: 0.96, F1-Score: 0.91\n"
     ]
    }
   ],
   "source": [
    "precision = MulticlassPrecision(num_classes=num_classes, average=None)\n",
    "recall = MulticlassRecall(num_classes=num_classes, average=None)\n",
    "f1_score = MulticlassF1Score(num_classes=num_classes, average=None)\n",
    "\n",
    "\n",
    "all_preds = []\n",
    "all_labels = []\n",
    "\n",
    "model.eval()\n",
    "with torch.no_grad():\n",
    "    for inputs, labels in val_loader:\n",
    "        inputs, labels = inputs.to(device), labels.to(device)\n",
    "        outputs = model(inputs)\n",
    "        _, preds = torch.max(outputs, 1)\n",
    "        all_preds.append(preds.cpu())\n",
    "        all_labels.append(labels.cpu())\n",
    "\n",
    "\n",
    "all_preds = torch.cat(all_preds)\n",
    "all_labels = torch.cat(all_labels)\n",
    "\n",
    "\n",
    "per_class_precision = precision(all_preds, all_labels)\n",
    "per_class_recall = recall(all_preds, all_labels)\n",
    "per_class_f1 = f1_score(all_preds, all_labels)\n",
    "\n",
    "\n",
    "for i, name in enumerate(classes):\n",
    "    print(f\"Class {i}-{name}: Precision: {per_class_precision[i]:.2f}, Recall: {per_class_recall[i]:.2f}, F1-Score: {per_class_f1[i]:.2f}\")"
   ]
  },
  {
   "cell_type": "markdown",
   "id": "2cfcedbd",
   "metadata": {},
   "source": [
    "# Save Model"
   ]
  },
  {
   "cell_type": "code",
   "execution_count": 31,
   "id": "15c5fd48",
   "metadata": {},
   "outputs": [],
   "source": [
    "# torch.save(model.state_dict(), '/home/viviane/projects/breast-cancer-v2/models/model_alexnet.pt')"
   ]
  }
 ],
 "metadata": {
  "kernelspec": {
   "display_name": "lidc_env",
   "language": "python",
   "name": "python3"
  },
  "language_info": {
   "codemirror_mode": {
    "name": "ipython",
    "version": 3
   },
   "file_extension": ".py",
   "mimetype": "text/x-python",
   "name": "python",
   "nbconvert_exporter": "python",
   "pygments_lexer": "ipython3",
   "version": "3.12.2"
  }
 },
 "nbformat": 4,
 "nbformat_minor": 5
}

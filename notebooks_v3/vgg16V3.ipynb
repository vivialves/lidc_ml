{
 "cells": [
  {
   "cell_type": "markdown",
   "id": "f6d4888f",
   "metadata": {},
   "source": [
    "# LIDC"
   ]
  },
  {
   "cell_type": "markdown",
   "id": "41c6022c",
   "metadata": {},
   "source": [
    "# CNN - VGG16"
   ]
  },
  {
   "cell_type": "code",
   "execution_count": 1,
   "id": "b5b4c5e6",
   "metadata": {},
   "outputs": [],
   "source": [
    "import os\n",
    "import pandas as pd\n",
    "import numpy as np\n",
    "import time\n",
    "import random\n",
    "import cv2\n",
    "\n",
    "import torch\n",
    "import torchvision\n",
    "import torch.nn as nn\n",
    "import torch.optim as optim\n",
    "\n",
    "\n",
    "import matplotlib.pyplot as plt\n",
    "\n",
    "from glob import glob\n",
    "from PIL import Image\n",
    "\n",
    "from monai.transforms import (\n",
    "    Compose, Resize, LoadImaged, RepeatChanneld, ScaleIntensity, ResizeWithPadOrCropd, ToTensord\n",
    ")\n",
    "from monai.data import DataLoader, Dataset\n",
    "from collections import Counter\n",
    "from torchvision import models\n",
    "from torchinfo import summary\n",
    "from torchvision import datasets, transforms\n",
    "from torch.utils.data import random_split, DataLoader, Dataset, WeightedRandomSampler\n",
    "from torchmetrics.classification import MulticlassConfusionMatrix, MulticlassPrecision, MulticlassRecall, MulticlassF1Score\n",
    "from sklearn.metrics import confusion_matrix, ConfusionMatrixDisplay, classification_report, roc_auc_score, roc_curve\n"
   ]
  },
  {
   "cell_type": "markdown",
   "id": "a1677b17",
   "metadata": {},
   "source": [
    "## Checking if Gpu were recognized"
   ]
  },
  {
   "cell_type": "code",
   "execution_count": 2,
   "id": "ebe41df8",
   "metadata": {},
   "outputs": [
    {
     "name": "stdout",
     "output_type": "stream",
     "text": [
      "PyTorch is using GPU!\n",
      "NVIDIA GeForce RTX 3050 Ti Laptop GPU\n"
     ]
    }
   ],
   "source": [
    "if torch.cuda.is_available():\n",
    "    device = torch.device(\"cuda\")\n",
    "    print(\"PyTorch is using GPU!\")\n",
    "    print(torch.cuda.get_device_name(0)) #prints the name of the GPU.\n",
    "else:\n",
    "    device = torch.device(\"cpu\")\n",
    "    print(\"PyTorch is using CPU.\")"
   ]
  },
  {
   "cell_type": "markdown",
   "id": "ced6a6c8",
   "metadata": {},
   "source": [
    "# Constants"
   ]
  },
  {
   "cell_type": "code",
   "execution_count": 28,
   "id": "4aa7bec9",
   "metadata": {},
   "outputs": [],
   "source": [
    "IMAGE_SIZE = 224\n",
    "BATCH_SIZE = 8\n",
    "NUM_CHANNELS = 3\n",
    "NUM_CLASSES = 2\n",
    "PATIENCE_COUNTER = 3\n",
    "EPOCHS = 50\n",
    "PATH_TRAIN = '/home/vivianea/projects/BrainInnov/data/npy_balanced_split/train'\n",
    "PATH_TEST = '/home/vivianea/projects/BrainInnov/data/npy_balanced_split/test'\n",
    "PATH_VAL = '/home/vivianea/projects/BrainInnov/data/npy_balanced_split/val'\n",
    "PATH_MODEL = '/home/vivianea/projects/BrainInnov/models/best_model_VGG16.pth'\n",
    "CSV_TRAIN = '/home/vivianea/projects/BrainInnov/data/npy_balanced_split/train_index.csv'\n",
    "CSV_TEST = '/home/vivianea/projects/BrainInnov/data/npy_balanced_split/test_index.csv'\n",
    "CSV_VAL = '/home/vivianea/projects/BrainInnov/data/npy_balanced_split/val_index.csv'\n",
    "CLASS_MAP = {'cancer': 0, 'non-cancer': 1}\n",
    "INDEX_TO_CLASS = {0: 'non-cancer', 1: 'cancer'}"
   ]
  },
  {
   "cell_type": "markdown",
   "id": "333ffa2a",
   "metadata": {},
   "source": [
    "# Loading Dataset"
   ]
  },
  {
   "cell_type": "markdown",
   "id": "cdf42311",
   "metadata": {},
   "source": [
    "dataset = datasets.ImageFolder(\n",
    "    root=PATH_TRAIN, \n",
    "    transform=transforms.ToTensor()\n",
    ")\n",
    "classes = dataset.classes\n",
    "print(classes)\n",
    "print(dataset.class_to_idx)"
   ]
  },
  {
   "cell_type": "code",
   "execution_count": 4,
   "id": "d6cc4c52",
   "metadata": {},
   "outputs": [],
   "source": [
    "class NPYDataset(Dataset):\n",
    "    def __init__(self, csv_path, npy_dir, transform=None):\n",
    "        self.data = pd.read_csv(csv_path)\n",
    "        self.npy_dir = npy_dir\n",
    "        self.transform = transform\n",
    "\n",
    "        self.classes = sorted(self.data[\"label\"].unique())\n",
    "        self.class_to_idx = {0: \"non-cancer\", 1: \"cancer\"}\n",
    "        self.idx_to_class = {v: k for k, v in self.class_to_idx.items()}\n",
    "\n",
    "    def __len__(self):\n",
    "        return len(self.data)\n",
    "\n",
    "    def __getitem__(self, idx):\n",
    "        row = self.data.iloc[idx]\n",
    "        file_path = os.path.join(self.npy_dir, row['filename'])\n",
    "        image = np.load(file_path).astype(np.float32)\n",
    "        \n",
    "        # If grayscale, convert to 3 channels\n",
    "        if image.ndim == 3 and image.shape[0] == 1:\n",
    "            image = np.repeat(image, 3, axis=0)\n",
    "        elif image.ndim == 2:\n",
    "            image = np.stack([image] * 3, axis=0)\n",
    "       \n",
    "        image = torch.from_numpy(image)\n",
    "        if self.transform:\n",
    "            image = self.transform(image)\n",
    "        label = int(row['label'])\n",
    "        return image, label"
   ]
  },
  {
   "cell_type": "code",
   "execution_count": 5,
   "id": "d4e6098e",
   "metadata": {},
   "outputs": [
    {
     "data": {
      "text/plain": [
       "{0: 'non-cancer', 1: 'cancer'}"
      ]
     },
     "execution_count": 5,
     "metadata": {},
     "output_type": "execute_result"
    }
   ],
   "source": [
    "train_dataset = NPYDataset(\n",
    "    csv_path=CSV_TRAIN,\n",
    "    npy_dir=PATH_TRAIN,\n",
    ")\n",
    "\n",
    "train_loader = DataLoader(train_dataset, batch_size=BATCH_SIZE, shuffle=True)\n",
    "train_dataset.class_to_idx"
   ]
  },
  {
   "cell_type": "code",
   "execution_count": 6,
   "id": "dcef5de4",
   "metadata": {},
   "outputs": [],
   "source": [
    "classes = [cls for cls in train_dataset.class_to_idx.values()]"
   ]
  },
  {
   "cell_type": "code",
   "execution_count": 7,
   "id": "7226a89f",
   "metadata": {},
   "outputs": [
    {
     "data": {
      "text/plain": [
       "47136"
      ]
     },
     "execution_count": 7,
     "metadata": {},
     "output_type": "execute_result"
    }
   ],
   "source": [
    "len(train_dataset)"
   ]
  },
  {
   "cell_type": "code",
   "execution_count": 29,
   "id": "20ac58d6",
   "metadata": {},
   "outputs": [],
   "source": [
    "train_dir = PATH_TRAIN\n",
    "test_dir = PATH_TEST\n",
    "val_dir = PATH_VAL"
   ]
  },
  {
   "cell_type": "markdown",
   "id": "69f0a313",
   "metadata": {},
   "source": [
    "# Preprocessing"
   ]
  },
  {
   "cell_type": "markdown",
   "id": "85a6212e",
   "metadata": {},
   "source": [
    "### Custom Dataset with Conditional Augmentation"
   ]
  },
  {
   "cell_type": "markdown",
   "id": "56b37c89",
   "metadata": {},
   "source": [
    "class CancerDataset(Dataset):\n",
    "    def __init__(self, image_paths, labels, base_transform, minority_transform):\n",
    "        self.image_paths = image_paths\n",
    "        self.labels = labels\n",
    "        self.base_transform = base_transform\n",
    "        self.minority_transform = minority_transform\n",
    "\n",
    "    def __len__(self):\n",
    "        return len(self.image_paths)\n",
    "\n",
    "    def __getitem__(self, idx):\n",
    "        img_path = self.image_paths[idx]\n",
    "        label = self.labels[idx]\n",
    "        \n",
    "        image = Image.open(img_path).convert(\"RGB\")\n",
    "        \n",
    "        # Apply stronger augmentation if label is non-cancer (assume 1 = non-cancer, 0 = cancer)\n",
    "        if label == 1:\n",
    "            image = self.minority_transform(image)\n",
    "        else:\n",
    "            image = self.base_transform(image)\n",
    "\n",
    "        return image, label"
   ]
  },
  {
   "cell_type": "markdown",
   "id": "59b0f539",
   "metadata": {},
   "source": [
    "image_paths = []\n",
    "labels = []\n",
    "\n",
    "for class_name in ['non-cancer', 'cancer']:\n",
    "    folder = os.path.join(train_dir, class_name)\n",
    "    for img_path in glob(os.path.join(folder, '*')):\n",
    "        image_paths.append(img_path)\n",
    "        labels.append(CLASS_MAP[class_name])"
   ]
  },
  {
   "cell_type": "markdown",
   "id": "41e83350",
   "metadata": {},
   "source": [
    "### Shuffle before create dataset"
   ]
  },
  {
   "cell_type": "markdown",
   "id": "4d159c3a",
   "metadata": {},
   "source": [
    "combined = list(zip(image_paths, labels))\n",
    "random.shuffle(combined)\n",
    "image_paths, labels = zip(*combined)"
   ]
  },
  {
   "cell_type": "markdown",
   "id": "5437b195",
   "metadata": {},
   "source": [
    "base_transform = transforms.Compose([\n",
    "    transforms.Resize((IMAGE_SIZE, IMAGE_SIZE)),\n",
    "    transforms.ToTensor(),\n",
    "    # transforms.Normalize([0.5] * 3, [0.5] * 3),\n",
    "    # transforms.Normalize(mean=[0.5, 0.5, 0.5], std=[0.5, 0.5, 0.5])\n",
    "])\n",
    "\n",
    "minority_transform = transforms.Compose([\n",
    "    transforms.Resize((IMAGE_SIZE, IMAGE_SIZE)),\n",
    "    transforms.RandomHorizontalFlip(),\n",
    "    transforms.RandomRotation(15),\n",
    "    transforms.RandomAffine(10),\n",
    "    # transforms.ColorJitter(brightness=0.2, contrast=0.2),\n",
    "    transforms.ToTensor(),\n",
    "    # transforms.Normalize([0.5] * 3, [0.5] * 3),\n",
    "    # transforms.Normalize(mean=[0.5, 0.5, 0.5], std=[0.5, 0.5, 0.5])\n",
    "])"
   ]
  },
  {
   "cell_type": "markdown",
   "id": "ac533d48",
   "metadata": {},
   "source": [
    "# Create the Weighted Sampler and DataLoader\n",
    "# Compute class weights (1 = non-cancer, 0 = cancer)\n",
    "class_counts = [labels.count(0), labels.count(1)]\n",
    "weights = 1. / torch.tensor(class_counts, dtype=torch.float)\n",
    "sample_weights = [weights[label] for label in labels]\n",
    "\n",
    "sampler = WeightedRandomSampler(sample_weights, num_samples=len(sample_weights), replacement=True)"
   ]
  },
  {
   "cell_type": "markdown",
   "id": "a285fd2f",
   "metadata": {},
   "source": [
    "## Define Loaders"
   ]
  },
  {
   "cell_type": "markdown",
   "id": "0193b108",
   "metadata": {},
   "source": [
    "# Define data augmentation for the training dataset\n",
    "train_transforms = transforms.Compose([\n",
    "    transforms.Resize((IMAGE_SIZE, IMAGE_SIZE)),\n",
    "    # transforms.RandomResizedCrop(IMAGE_SIZE),   # Random crop and resize\n",
    "    # transforms.RandomHorizontalFlip(p=0.5),     # Random horizontal flip\n",
    "    # transforms.RandomRotation(20),              # Random rotation within ±20 degrees\n",
    "    # transforms.ColorJitter(brightness=0.2, contrast=0.2, saturation=0.2, hue=0.1), # *******\n",
    "    # transforms.RandomAffine(degrees=0, shear=10, scale=(0.8, 1.2)),  # Shearing\n",
    "    transforms.ToTensor(),                      # Convert to tensor\n",
    "    transforms.Normalize(mean=[0.5, 0.5, 0.5], std=[0.5, 0.5, 0.5]) # Normalize\n",
    "])\n",
    "\n",
    "val_transforms = transforms.Compose([\n",
    "    transforms.Resize((IMAGE_SIZE, IMAGE_SIZE)),\n",
    "    transforms.ToTensor(),\n",
    "    transforms.Normalize(mean=[0.5, 0.5, 0.5], std=[0.5, 0.5, 0.5])\n",
    "])\n",
    "\n",
    "# Define validation dataset - no augmentation, only resizing and normalization\n",
    "test_transforms = transforms.Compose([\n",
    "    transforms.Resize((IMAGE_SIZE, IMAGE_SIZE)),\n",
    "    transforms.ToTensor(),\n",
    "    transforms.Normalize(mean=[0.5, 0.5, 0.5], std=[0.5, 0.5, 0.5])\n",
    "])\n",
    "\n",
    "\n",
    "# split train_dataset and load\n",
    "# train_dataset = CancerDataset(image_paths=image_paths,labels=labels,base_transform=base_transform,minority_transform=minority_transform)\n",
    "train_dataset = torchvision.datasets.ImageFolder(root=train_dir, transform=train_transforms)\n",
    "val_dataset = torchvision.datasets.ImageFolder(root=val_dir, transform=val_transforms)\n",
    "test_dataset = torchvision.datasets.ImageFolder(root=test_dir, transform=test_transforms)\n",
    "\n",
    "\n",
    "\n",
    "# Define loaders\n",
    "\n",
    "train_loader = DataLoader(train_dataset, batch_size=BATCH_SIZE, sampler=sampler)\n",
    "val_loader = DataLoader(val_dataset, batch_size=BATCH_SIZE, shuffle=False)\n",
    "test_loader = DataLoader(test_dataset, batch_size=BATCH_SIZE, shuffle=True)\n",
    "\n",
    "\n",
    "print(f'Training samples: {len(train_dataset)}, Validation samples: {len(val_dataset)}, Test samples: {len(test_dataset)}')"
   ]
  },
  {
   "cell_type": "code",
   "execution_count": 30,
   "id": "7ffe7015",
   "metadata": {},
   "outputs": [],
   "source": [
    "transforms = Compose([\n",
    "    ScaleIntensity(minv=0.0, maxv=1.0),\n",
    "    Resize((IMAGE_SIZE, IMAGE_SIZE))\n",
    "])\n",
    "\n",
    "train_dataset = NPYDataset(\n",
    "    csv_path=CSV_TRAIN,\n",
    "    npy_dir=PATH_TRAIN,\n",
    "    transform=transforms\n",
    ")\n",
    "\n",
    "test_dataset = NPYDataset(\n",
    "    csv_path=CSV_TEST,\n",
    "    npy_dir=PATH_TEST,\n",
    "    transform=transforms\n",
    ")\n",
    "\n",
    "val_dataset = NPYDataset(\n",
    "    csv_path=CSV_VAL,\n",
    "    npy_dir=PATH_VAL,\n",
    "    transform=transforms\n",
    ")\n",
    "\n",
    "train_loader = DataLoader(train_dataset, batch_size=BATCH_SIZE, shuffle=True)\n",
    "val_loader = DataLoader(val_dataset, batch_size=BATCH_SIZE, shuffle=False)\n",
    "test_loader = DataLoader(test_dataset, batch_size=BATCH_SIZE, shuffle=True)\n"
   ]
  },
  {
   "cell_type": "markdown",
   "id": "ac663c99",
   "metadata": {},
   "source": [
    "### Size by classes in Train dataset"
   ]
  },
  {
   "cell_type": "code",
   "execution_count": 10,
   "id": "101fb49c",
   "metadata": {},
   "outputs": [
    {
     "name": "stdout",
     "output_type": "stream",
     "text": [
      "\n",
      "Training set counts:\n",
      "Class: non-cancer, Count: 22948\n",
      "Class: cancer, Count: 24188\n"
     ]
    }
   ],
   "source": [
    "# Collect labels from your dataset\n",
    "labels = [int(label) for _, label in train_dataset]\n",
    "\n",
    "# Count occurrences\n",
    "label_counts = Counter(labels)\n",
    "\n",
    "# Define your index-to-class mapping manually if needed\n",
    "index_to_class = INDEX_TO_CLASS  # adjust if different\n",
    "\n",
    "# Print counts\n",
    "print(\"\\nTraining set counts:\")\n",
    "for idx, count in label_counts.items():\n",
    "    print(f\"Class: {index_to_class[idx]}, Count: {count}\")"
   ]
  },
  {
   "cell_type": "markdown",
   "id": "89dfda1c",
   "metadata": {},
   "source": [
    "# Architecture"
   ]
  },
  {
   "cell_type": "code",
   "execution_count": 11,
   "id": "9b5906e8",
   "metadata": {},
   "outputs": [
    {
     "name": "stdout",
     "output_type": "stream",
     "text": [
      "VGG(\n",
      "  (features): Sequential(\n",
      "    (0): Conv2d(3, 64, kernel_size=(3, 3), stride=(1, 1), padding=(1, 1))\n",
      "    (1): ReLU(inplace=True)\n",
      "    (2): Conv2d(64, 64, kernel_size=(3, 3), stride=(1, 1), padding=(1, 1))\n",
      "    (3): ReLU(inplace=True)\n",
      "    (4): MaxPool2d(kernel_size=2, stride=2, padding=0, dilation=1, ceil_mode=False)\n",
      "    (5): Conv2d(64, 128, kernel_size=(3, 3), stride=(1, 1), padding=(1, 1))\n",
      "    (6): ReLU(inplace=True)\n",
      "    (7): Conv2d(128, 128, kernel_size=(3, 3), stride=(1, 1), padding=(1, 1))\n",
      "    (8): ReLU(inplace=True)\n",
      "    (9): MaxPool2d(kernel_size=2, stride=2, padding=0, dilation=1, ceil_mode=False)\n",
      "    (10): Conv2d(128, 256, kernel_size=(3, 3), stride=(1, 1), padding=(1, 1))\n",
      "    (11): ReLU(inplace=True)\n",
      "    (12): Conv2d(256, 256, kernel_size=(3, 3), stride=(1, 1), padding=(1, 1))\n",
      "    (13): ReLU(inplace=True)\n",
      "    (14): Conv2d(256, 256, kernel_size=(3, 3), stride=(1, 1), padding=(1, 1))\n",
      "    (15): ReLU(inplace=True)\n",
      "    (16): MaxPool2d(kernel_size=2, stride=2, padding=0, dilation=1, ceil_mode=False)\n",
      "    (17): Conv2d(256, 512, kernel_size=(3, 3), stride=(1, 1), padding=(1, 1))\n",
      "    (18): ReLU(inplace=True)\n",
      "    (19): Conv2d(512, 512, kernel_size=(3, 3), stride=(1, 1), padding=(1, 1))\n",
      "    (20): ReLU(inplace=True)\n",
      "    (21): Conv2d(512, 512, kernel_size=(3, 3), stride=(1, 1), padding=(1, 1))\n",
      "    (22): ReLU(inplace=True)\n",
      "    (23): MaxPool2d(kernel_size=2, stride=2, padding=0, dilation=1, ceil_mode=False)\n",
      "    (24): Conv2d(512, 512, kernel_size=(3, 3), stride=(1, 1), padding=(1, 1))\n",
      "    (25): ReLU(inplace=True)\n",
      "    (26): Conv2d(512, 512, kernel_size=(3, 3), stride=(1, 1), padding=(1, 1))\n",
      "    (27): ReLU(inplace=True)\n",
      "    (28): Conv2d(512, 512, kernel_size=(3, 3), stride=(1, 1), padding=(1, 1))\n",
      "    (29): ReLU(inplace=True)\n",
      "    (30): MaxPool2d(kernel_size=2, stride=2, padding=0, dilation=1, ceil_mode=False)\n",
      "  )\n",
      "  (avgpool): AdaptiveAvgPool2d(output_size=(7, 7))\n",
      "  (classifier): Sequential(\n",
      "    (0): Linear(in_features=25088, out_features=4096, bias=True)\n",
      "    (1): ReLU(inplace=True)\n",
      "    (2): Dropout(p=0.5, inplace=False)\n",
      "    (3): Linear(in_features=4096, out_features=4096, bias=True)\n",
      "    (4): ReLU(inplace=True)\n",
      "    (5): Dropout(p=0.5, inplace=False)\n",
      "    (6): Linear(in_features=4096, out_features=2, bias=True)\n",
      "  )\n",
      ")\n"
     ]
    }
   ],
   "source": [
    "device = torch.device(\"cuda\" if torch.cuda.is_available() else \"cpu\")\n",
    "\n",
    "model = models.vgg16(weights=None) \n",
    "model.classifier[6] = nn.Linear(4096, NUM_CLASSES)\n",
    "model = model.to(device)\n",
    "\n",
    "print(model)\n",
    "\n",
    "criterion = nn.CrossEntropyLoss()\n",
    "optimizer = optim.SGD(model.parameters(), lr=0.01, momentum=0.9)"
   ]
  },
  {
   "cell_type": "code",
   "execution_count": 12,
   "id": "800e1e15",
   "metadata": {},
   "outputs": [
    {
     "data": {
      "text/plain": [
       "==========================================================================================\n",
       "Layer (type:depth-idx)                   Output Shape              Param #\n",
       "==========================================================================================\n",
       "VGG                                      [8, 2]                    --\n",
       "├─Sequential: 1-1                        [8, 512, 7, 7]            --\n",
       "│    └─Conv2d: 2-1                       [8, 64, 224, 224]         1,792\n",
       "│    └─ReLU: 2-2                         [8, 64, 224, 224]         --\n",
       "│    └─Conv2d: 2-3                       [8, 64, 224, 224]         36,928\n",
       "│    └─ReLU: 2-4                         [8, 64, 224, 224]         --\n",
       "│    └─MaxPool2d: 2-5                    [8, 64, 112, 112]         --\n",
       "│    └─Conv2d: 2-6                       [8, 128, 112, 112]        73,856\n",
       "│    └─ReLU: 2-7                         [8, 128, 112, 112]        --\n",
       "│    └─Conv2d: 2-8                       [8, 128, 112, 112]        147,584\n",
       "│    └─ReLU: 2-9                         [8, 128, 112, 112]        --\n",
       "│    └─MaxPool2d: 2-10                   [8, 128, 56, 56]          --\n",
       "│    └─Conv2d: 2-11                      [8, 256, 56, 56]          295,168\n",
       "│    └─ReLU: 2-12                        [8, 256, 56, 56]          --\n",
       "│    └─Conv2d: 2-13                      [8, 256, 56, 56]          590,080\n",
       "│    └─ReLU: 2-14                        [8, 256, 56, 56]          --\n",
       "│    └─Conv2d: 2-15                      [8, 256, 56, 56]          590,080\n",
       "│    └─ReLU: 2-16                        [8, 256, 56, 56]          --\n",
       "│    └─MaxPool2d: 2-17                   [8, 256, 28, 28]          --\n",
       "│    └─Conv2d: 2-18                      [8, 512, 28, 28]          1,180,160\n",
       "│    └─ReLU: 2-19                        [8, 512, 28, 28]          --\n",
       "│    └─Conv2d: 2-20                      [8, 512, 28, 28]          2,359,808\n",
       "│    └─ReLU: 2-21                        [8, 512, 28, 28]          --\n",
       "│    └─Conv2d: 2-22                      [8, 512, 28, 28]          2,359,808\n",
       "│    └─ReLU: 2-23                        [8, 512, 28, 28]          --\n",
       "│    └─MaxPool2d: 2-24                   [8, 512, 14, 14]          --\n",
       "│    └─Conv2d: 2-25                      [8, 512, 14, 14]          2,359,808\n",
       "│    └─ReLU: 2-26                        [8, 512, 14, 14]          --\n",
       "│    └─Conv2d: 2-27                      [8, 512, 14, 14]          2,359,808\n",
       "│    └─ReLU: 2-28                        [8, 512, 14, 14]          --\n",
       "│    └─Conv2d: 2-29                      [8, 512, 14, 14]          2,359,808\n",
       "│    └─ReLU: 2-30                        [8, 512, 14, 14]          --\n",
       "│    └─MaxPool2d: 2-31                   [8, 512, 7, 7]            --\n",
       "├─AdaptiveAvgPool2d: 1-2                 [8, 512, 7, 7]            --\n",
       "├─Sequential: 1-3                        [8, 2]                    --\n",
       "│    └─Linear: 2-32                      [8, 4096]                 102,764,544\n",
       "│    └─ReLU: 2-33                        [8, 4096]                 --\n",
       "│    └─Dropout: 2-34                     [8, 4096]                 --\n",
       "│    └─Linear: 2-35                      [8, 4096]                 16,781,312\n",
       "│    └─ReLU: 2-36                        [8, 4096]                 --\n",
       "│    └─Dropout: 2-37                     [8, 4096]                 --\n",
       "│    └─Linear: 2-38                      [8, 2]                    8,194\n",
       "==========================================================================================\n",
       "Total params: 134,268,738\n",
       "Trainable params: 134,268,738\n",
       "Non-trainable params: 0\n",
       "Total mult-adds (Units.GIGABYTES): 123.84\n",
       "==========================================================================================\n",
       "Input size (MB): 4.82\n",
       "Forward/backward pass size (MB): 867.57\n",
       "Params size (MB): 537.07\n",
       "Estimated Total Size (MB): 1409.46\n",
       "=========================================================================================="
      ]
     },
     "execution_count": 12,
     "metadata": {},
     "output_type": "execute_result"
    }
   ],
   "source": [
    "summary(model, input_size=(BATCH_SIZE, NUM_CHANNELS, IMAGE_SIZE, IMAGE_SIZE))"
   ]
  },
  {
   "cell_type": "markdown",
   "id": "b604f93e",
   "metadata": {},
   "source": [
    "# Trainning"
   ]
  },
  {
   "cell_type": "code",
   "execution_count": 13,
   "id": "3b89372e",
   "metadata": {},
   "outputs": [],
   "source": [
    "def train_model(model, train_loader, val_loader, criterion, optimizer, num_epochs, num_classes, patience, path_model):\n",
    "    train_losses = []\n",
    "    val_losses = []\n",
    "    train_accuracies = []\n",
    "    val_accuracies = []\n",
    "\n",
    "    # Metrics\n",
    "    confusion_matrix = MulticlassConfusionMatrix(num_classes=num_classes)\n",
    "    precision = MulticlassPrecision(num_classes=num_classes, average='macro')\n",
    "    recall = MulticlassRecall(num_classes=num_classes, average='macro')\n",
    "    f1_score = MulticlassF1Score(num_classes=num_classes, average='macro')\n",
    "\n",
    "    # Early stopping parameters\n",
    "    best_val_loss = float('inf')\n",
    "    patience_counter = 0\n",
    "    best_model_path = path_model\n",
    "\n",
    "    for epoch in range(num_epochs):\n",
    "        # Training\n",
    "        model.train()\n",
    "        train_loss = 0.0\n",
    "        correct_train = 0\n",
    "        total_train = 0\n",
    "\n",
    "        for inputs, labels in train_loader:\n",
    "            inputs, labels = inputs.to(device), labels.to(device)\n",
    "\n",
    "            # Clear gradients\n",
    "            optimizer.zero_grad()\n",
    "\n",
    "            # feed foward\n",
    "            outputs = model(inputs)\n",
    "            \n",
    "            # Compute loss using cross entropy\n",
    "            loss = criterion(outputs, labels)\n",
    "\n",
    "            # backpropagation\n",
    "            loss.backward()\n",
    "\n",
    "            # Update weights\n",
    "            optimizer.step()\n",
    "\n",
    "            # Update results\n",
    "            train_loss += loss.item()\n",
    "            _, preds = torch.max(outputs, 1)\n",
    "            total_train += labels.size(0)\n",
    "            correct_train += (preds == labels).sum().item()\n",
    "\n",
    "        train_losses.append(train_loss / len(train_loader))\n",
    "        train_accuracies.append(100 * correct_train / total_train)\n",
    "\n",
    "        # Evaluation part to print metrics for each epoch\n",
    "        model.eval()\n",
    "        val_loss = 0.0\n",
    "        correct_val = 0\n",
    "        total_val = 0\n",
    "\n",
    "        all_preds = []\n",
    "        all_labels = []\n",
    "\n",
    "        with torch.no_grad():\n",
    "            for inputs, labels in val_loader:\n",
    "                inputs, labels = inputs.to(device), labels.to(device)\n",
    "                outputs = model(inputs)\n",
    "                loss = criterion(outputs, labels)\n",
    "                val_loss += loss.item()\n",
    "\n",
    "                _, preds = torch.max(outputs, 1)\n",
    "                total_val += labels.size(0)\n",
    "                correct_val += (preds == labels).sum().item()\n",
    "\n",
    "                # For metrics\n",
    "                all_preds.append(preds.cpu())\n",
    "                all_labels.append(labels.cpu())\n",
    "\n",
    "        val_losses.append(val_loss / len(val_loader))\n",
    "        val_accuracies.append(100 * correct_val / total_val)\n",
    "\n",
    "        \n",
    "        all_preds = torch.cat(all_preds)\n",
    "        all_labels = torch.cat(all_labels)\n",
    "\n",
    "        \n",
    "        precision_value = precision(all_preds, all_labels)\n",
    "        recall_value = recall(all_preds, all_labels)\n",
    "        f1_value = f1_score(all_preds, all_labels)\n",
    "        conf_matrix = confusion_matrix(all_preds, all_labels)\n",
    "\n",
    "        \n",
    "        print(f\"Epoch {epoch + 1}/{num_epochs}\")\n",
    "        print(f\"Train Loss: {train_losses[-1]:.4f} | Train Acc: {train_accuracies[-1]:.2f}%\")\n",
    "        print(f\"Val Loss: {val_losses[-1]:.4f} | Val Acc: {val_accuracies[-1]:.2f}%\")\n",
    "        print(f\"Precision: {precision_value:.4f} | Recall: {recall_value:.4f} | F1 Score: {f1_value:.4f}\\n\")\n",
    "        \n",
    "        # --- Early Stopping Logic ---\n",
    "        if val_loss < best_val_loss:\n",
    "            best_val_loss = val_loss\n",
    "            patience_counter = 0 # Reset patience counter\n",
    "            # Save the best model\n",
    "            torch.save({\n",
    "                'epoch': epoch,\n",
    "                'model_state_dict': model.state_dict(),\n",
    "                'optimizer_state_dict': optimizer.state_dict(),\n",
    "                'best_val_loss': best_val_loss,\n",
    "                'confusion_matrix': conf_matrix.cpu().numpy() # Save the confusion matrix of the best model\n",
    "                }, best_model_path)\n",
    "            print(f\"Validation loss improved. Saving best model to {best_model_path}\\n\")\n",
    "        else:\n",
    "            patience_counter += 1\n",
    "            print(f\"Validation loss did not improve. Patience: {patience_counter}/{patience}\\n\")\n",
    "\n",
    "        if patience_counter >= patience:\n",
    "            print(f\"Early stopping triggered after {epoch+1} epochs due to no improvement in validation loss for {patience} consecutive epochs.\\n\")\n",
    "            break # Exit the training loop\n",
    "\n",
    "    print(\"\\nTraining complete.\")\n",
    "    # Load the best model after training is complete (either by early stopping or max epochs)\n",
    "    print(f\"Loading best model from {best_model_path} for final metrics.\")\n",
    "    checkpoint = torch.load(best_model_path, weights_only=False)\n",
    "    model.load_state_dict(checkpoint['model_state_dict'])\n",
    "    # You might not need to load optimizer state if you're just doing inference or final evaluation\n",
    "    # optimizer.load_state_dict(checkpoint['optimizer_state_dict'])\n",
    "    final_conf_matrix = checkpoint['confusion_matrix'] # Retrieve the confusion matrix of the best model\n",
    "\n",
    "    return train_losses, val_losses, train_accuracies, val_accuracies, conf_matrix"
   ]
  },
  {
   "cell_type": "code",
   "execution_count": 14,
   "id": "efa572ca",
   "metadata": {},
   "outputs": [
    {
     "name": "stdout",
     "output_type": "stream",
     "text": [
      "Using device: cuda\n",
      "Epoch 1/50\n",
      "Train Loss: 0.6946 | Train Acc: 50.70%\n",
      "Val Loss: 0.7415 | Val Acc: 36.18%\n",
      "Precision: 0.1809 | Recall: 0.5000 | F1 Score: 0.2657\n",
      "\n",
      "Validation loss improved. Saving best model to /home/vivianea/projects/BrainInnov/models/best_model_VGG16.pth\n",
      "\n",
      "Epoch 2/50\n",
      "Train Loss: 0.6944 | Train Acc: 50.52%\n",
      "Val Loss: 0.6865 | Val Acc: 63.82%\n",
      "Precision: 0.3191 | Recall: 0.5000 | F1 Score: 0.3896\n",
      "\n",
      "Validation loss improved. Saving best model to /home/vivianea/projects/BrainInnov/models/best_model_VGG16.pth\n",
      "\n",
      "Epoch 3/50\n",
      "Train Loss: 0.6946 | Train Acc: 50.37%\n",
      "Val Loss: 0.7281 | Val Acc: 36.18%\n",
      "Precision: 0.1809 | Recall: 0.5000 | F1 Score: 0.2657\n",
      "\n",
      "Validation loss did not improve. Patience: 1/3\n",
      "\n",
      "Epoch 4/50\n",
      "Train Loss: 0.6945 | Train Acc: 50.80%\n",
      "Val Loss: 0.6833 | Val Acc: 63.82%\n",
      "Precision: 0.3191 | Recall: 0.5000 | F1 Score: 0.3896\n",
      "\n",
      "Validation loss improved. Saving best model to /home/vivianea/projects/BrainInnov/models/best_model_VGG16.pth\n",
      "\n",
      "Epoch 5/50\n",
      "Train Loss: 0.6944 | Train Acc: 50.15%\n",
      "Val Loss: 0.7092 | Val Acc: 36.18%\n",
      "Precision: 0.1809 | Recall: 0.5000 | F1 Score: 0.2657\n",
      "\n",
      "Validation loss did not improve. Patience: 1/3\n",
      "\n",
      "Epoch 6/50\n",
      "Train Loss: 0.6917 | Train Acc: 51.67%\n",
      "Val Loss: 0.6727 | Val Acc: 63.82%\n",
      "Precision: 0.3191 | Recall: 0.5000 | F1 Score: 0.3896\n",
      "\n",
      "Validation loss improved. Saving best model to /home/vivianea/projects/BrainInnov/models/best_model_VGG16.pth\n",
      "\n",
      "Epoch 7/50\n",
      "Train Loss: 0.6791 | Train Acc: 54.22%\n",
      "Val Loss: 0.6951 | Val Acc: 36.18%\n",
      "Precision: 0.1809 | Recall: 0.5000 | F1 Score: 0.2657\n",
      "\n",
      "Validation loss did not improve. Patience: 1/3\n",
      "\n",
      "Epoch 8/50\n",
      "Train Loss: 0.6945 | Train Acc: 50.47%\n",
      "Val Loss: 0.6674 | Val Acc: 63.82%\n",
      "Precision: 0.3191 | Recall: 0.5000 | F1 Score: 0.3896\n",
      "\n",
      "Validation loss improved. Saving best model to /home/vivianea/projects/BrainInnov/models/best_model_VGG16.pth\n",
      "\n",
      "Epoch 9/50\n",
      "Train Loss: 0.6944 | Train Acc: 50.48%\n",
      "Val Loss: 0.6865 | Val Acc: 63.82%\n",
      "Precision: 0.3191 | Recall: 0.5000 | F1 Score: 0.3896\n",
      "\n",
      "Validation loss did not improve. Patience: 1/3\n",
      "\n",
      "Epoch 10/50\n",
      "Train Loss: 0.6944 | Train Acc: 50.38%\n",
      "Val Loss: 0.7192 | Val Acc: 36.18%\n",
      "Precision: 0.1809 | Recall: 0.5000 | F1 Score: 0.2657\n",
      "\n",
      "Validation loss did not improve. Patience: 2/3\n",
      "\n",
      "Epoch 11/50\n",
      "Train Loss: 0.6945 | Train Acc: 50.43%\n",
      "Val Loss: 0.6856 | Val Acc: 63.82%\n",
      "Precision: 0.3191 | Recall: 0.5000 | F1 Score: 0.3896\n",
      "\n",
      "Validation loss did not improve. Patience: 3/3\n",
      "\n",
      "Early stopping triggered after 11 epochs due to no improvement in validation loss for 3 consecutive epochs.\n",
      "\n",
      "\n",
      "Training complete.\n",
      "Loading best model from /home/vivianea/projects/BrainInnov/models/best_model_VGG16.pth for final metrics.\n",
      "######## Training Finished in 17297.48807644844 seconds ###########\n"
     ]
    }
   ],
   "source": [
    "t1 = time.time()\n",
    "print(f\"Using device: {device}\")\n",
    "train_losses, val_losses, train_accuracies, val_accuracies, conf_matrix = train_model(\n",
    "    model, train_loader, val_loader, criterion, optimizer, num_epochs=EPOCHS, num_classes=NUM_CLASSES, patience=PATIENCE_COUNTER, path_model=PATH_MODEL)\n",
    "\n",
    "print(\"######## Training Finished in {} seconds ###########\".format(time.time()-t1))"
   ]
  },
  {
   "cell_type": "markdown",
   "id": "e8466c98",
   "metadata": {},
   "source": [
    "# Evaluating"
   ]
  },
  {
   "cell_type": "markdown",
   "id": "3284e914",
   "metadata": {},
   "source": [
    "### Accuracy"
   ]
  },
  {
   "cell_type": "code",
   "execution_count": 15,
   "id": "088fa271",
   "metadata": {},
   "outputs": [
    {
     "name": "stdout",
     "output_type": "stream",
     "text": [
      "Test Accuracy of the model on the 6133 test images: 69.00%\n"
     ]
    }
   ],
   "source": [
    "model.eval() \n",
    "\n",
    "with torch.no_grad(): \n",
    "    correct = 0\n",
    "    total = 0\n",
    "    for data in test_loader:\n",
    "        images, labels = data[0].to(device), data[1].to(device)\n",
    "        outputs = model(images)\n",
    "        _, predicted = torch.max(outputs.data, 1)\n",
    "        total += labels.size(0)\n",
    "        correct += (predicted == labels).sum().item()\n",
    "    print(f'Test Accuracy of the model on the {total} test images: {(correct / total) * 100:.2f}%')"
   ]
  },
  {
   "cell_type": "markdown",
   "id": "a16977b2",
   "metadata": {},
   "source": [
    "### Loss and Accuracy"
   ]
  },
  {
   "cell_type": "code",
   "execution_count": 16,
   "id": "305a509f",
   "metadata": {},
   "outputs": [
    {
     "data": {
      "image/png": "[encoded data removed]",
      "text/plain": [
       "<Figure size 1200x500 with 2 Axes>"
      ]
     },
     "metadata": {},
     "output_type": "display_data"
    }
   ],
   "source": [
    "def plot_training(train_losses, val_losses, train_accuracies, val_accuracies):\n",
    "    epochs = range(1, len(train_losses) + 1)\n",
    "\n",
    "    plt.figure(figsize=(12, 5))\n",
    "    \n",
    "    # Plot loss\n",
    "    plt.subplot(1, 2, 1)\n",
    "    plt.plot(epochs, train_losses, label='Train Loss')\n",
    "    plt.plot(epochs, val_losses, label='Val Loss')\n",
    "    plt.xlabel('Epochs')\n",
    "    plt.ylabel('Loss')\n",
    "    plt.title('Training and Validation Loss')\n",
    "    plt.legend()\n",
    "\n",
    "    # Plot accuracy\n",
    "    plt.subplot(1, 2, 2)\n",
    "    plt.plot(epochs, train_accuracies, label='Train Accuracy')\n",
    "    plt.plot(epochs, val_accuracies, label='Val Accuracy')\n",
    "    plt.xlabel('Epochs')\n",
    "    plt.ylabel('Accuracy (%)')\n",
    "    plt.title('Training and Validation Accuracy')\n",
    "    plt.legend()\n",
    "\n",
    "    plt.show()\n",
    "\n",
    "plot_training(train_losses, val_losses, train_accuracies, val_accuracies)"
   ]
  },
  {
   "cell_type": "markdown",
   "id": "be006153",
   "metadata": {},
   "source": [
    "### Confusion Matrix"
   ]
  },
  {
   "cell_type": "code",
   "execution_count": 17,
   "id": "8f17895c",
   "metadata": {},
   "outputs": [
    {
     "data": {
      "text/plain": [
       "<sklearn.metrics._plot.confusion_matrix.ConfusionMatrixDisplay at 0x7feff419a540>"
      ]
     },
     "execution_count": 17,
     "metadata": {},
     "output_type": "execute_result"
    },
    {
     "data": {
      "image/png": "[encoded data removed]",
      "text/plain": [
       "<Figure size 640x480 with 2 Axes>"
      ]
     },
     "metadata": {},
     "output_type": "display_data"
    }
   ],
   "source": [
    "cm = conf_matrix.cpu().numpy()\n",
    "disp = ConfusionMatrixDisplay(cm, display_labels=classes,)\n",
    "disp.plot()"
   ]
  },
  {
   "cell_type": "markdown",
   "id": "0c718bbe",
   "metadata": {},
   "source": [
    "### AUC and ROC Curve"
   ]
  },
  {
   "cell_type": "code",
   "execution_count": 18,
   "id": "708c7738",
   "metadata": {},
   "outputs": [],
   "source": [
    "y_true = []\n",
    "y_probs = []  # Collect probabilities for class 1 (cancer)\n",
    "\n",
    "model.eval()\n",
    "with torch.no_grad():\n",
    "    for inputs, labels in val_loader:  # or test_loader\n",
    "        inputs = inputs.to(device)\n",
    "        labels = labels.to(device)\n",
    "\n",
    "        outputs = model(inputs)  # raw logits or softmax\n",
    "        probs = torch.softmax(outputs, dim=1)[:, 1]  # class 1 = cancer\n",
    "\n",
    "        y_true.extend(labels.cpu().numpy())\n",
    "        y_probs.extend(probs.cpu().numpy())"
   ]
  },
  {
   "cell_type": "code",
   "execution_count": 19,
   "id": "2c834abf",
   "metadata": {},
   "outputs": [
    {
     "name": "stdout",
     "output_type": "stream",
     "text": [
      "AUC: 0.4269\n"
     ]
    },
    {
     "data": {
      "image/png": "[encoded data removed]",
      "text/plain": [
       "<Figure size 800x600 with 1 Axes>"
      ]
     },
     "metadata": {},
     "output_type": "display_data"
    }
   ],
   "source": [
    "# Compute AUC\n",
    "auc = roc_auc_score(y_true, y_probs)\n",
    "print(f\"AUC: {auc:.4f}\")\n",
    "\n",
    "# ROC curve\n",
    "fpr, tpr, thresholds = roc_curve(y_true, y_probs)\n",
    "\n",
    "plt.figure(figsize=(8, 6))\n",
    "plt.plot(fpr, tpr, label=f\"AUC = {auc:.4f}\")\n",
    "plt.plot([0, 1], [0, 1], linestyle='--', color='gray')\n",
    "plt.xlabel('False Positive Rate')\n",
    "plt.ylabel('True Positive Rate')\n",
    "plt.title('ROC Curve')\n",
    "plt.legend(loc=\"lower right\")\n",
    "plt.grid(True)\n",
    "plt.show()"
   ]
  },
  {
   "cell_type": "markdown",
   "id": "3be275ef",
   "metadata": {},
   "source": [
    "# Metrics"
   ]
  },
  {
   "cell_type": "code",
   "execution_count": 20,
   "id": "7f0c1911",
   "metadata": {},
   "outputs": [
    {
     "name": "stdout",
     "output_type": "stream",
     "text": [
      "Class 0-non-cancer: Precision: 0.00, Recall: 0.00, F1-Score: 0.00\n",
      "Class 1-cancer: Precision: 0.64, Recall: 1.00, F1-Score: 0.78\n"
     ]
    }
   ],
   "source": [
    "precision = MulticlassPrecision(num_classes=NUM_CLASSES, average=None)\n",
    "recall = MulticlassRecall(num_classes=NUM_CLASSES, average=None)\n",
    "f1_score = MulticlassF1Score(num_classes=NUM_CLASSES, average=None)\n",
    "\n",
    "\n",
    "all_preds = []\n",
    "all_labels = []\n",
    "\n",
    "model.eval()\n",
    "with torch.no_grad():\n",
    "    for inputs, labels in val_loader:\n",
    "        inputs, labels = inputs.to(device), labels.to(device)\n",
    "        outputs = model(inputs)\n",
    "        _, preds = torch.max(outputs, 1)\n",
    "        all_preds.append(preds.cpu())\n",
    "        all_labels.append(labels.cpu())\n",
    "\n",
    "\n",
    "all_preds = torch.cat(all_preds)\n",
    "all_labels = torch.cat(all_labels)\n",
    "\n",
    "\n",
    "per_class_precision = precision(all_preds, all_labels)\n",
    "per_class_recall = recall(all_preds, all_labels)\n",
    "per_class_f1 = f1_score(all_preds, all_labels)\n",
    "\n",
    "\n",
    "for i, name in enumerate(classes):\n",
    "    print(f\"Class {i}-{name}: Precision: {per_class_precision[i]:.2f}, Recall: {per_class_recall[i]:.2f}, F1-Score: {per_class_f1[i]:.2f}\")"
   ]
  },
  {
   "cell_type": "markdown",
   "id": "2cfcedbd",
   "metadata": {},
   "source": [
    "# Save Model"
   ]
  },
  {
   "cell_type": "code",
   "execution_count": 21,
   "id": "15c5fd48",
   "metadata": {},
   "outputs": [],
   "source": [
    "torch.save(model.state_dict(), PATH_MODEL)"
   ]
  },
  {
   "cell_type": "markdown",
   "id": "a11e242c",
   "metadata": {},
   "source": [
    "# GradCam"
   ]
  },
  {
   "cell_type": "code",
   "execution_count": 72,
   "id": "9fbecec5",
   "metadata": {},
   "outputs": [],
   "source": [
    "class GradCAM:\n",
    "    def __init__(self, model, target_layer):\n",
    "        self.model = model\n",
    "        self.target_layer = target_layer\n",
    "        self.gradients = []\n",
    "        self.activations = []\n",
    "\n",
    "        self._register_hooks()\n",
    "\n",
    "    def _register_hooks(self):\n",
    "        def forward_hook(module, input, output):\n",
    "            self.activations.append(output)\n",
    "\n",
    "        def backward_hook(module, grad_in, grad_out):\n",
    "            self.gradients.append(grad_out[0])\n",
    "\n",
    "        self.target_layer.register_forward_hook(forward_hook)\n",
    "        self.target_layer.register_full_backward_hook(backward_hook)\n",
    "\n",
    "    def generate(self, input_tensor, target_class=None):\n",
    "        self.model.eval()\n",
    "        self.gradients = []\n",
    "        self.activations = []\n",
    "\n",
    "        input_tensor = input_tensor.unsqueeze(0) if input_tensor.dim() == 3 else input_tensor\n",
    "        input_tensor = input_tensor.to(next(self.model.parameters()).device)\n",
    "\n",
    "        # Forward pass\n",
    "        output = self.model(input_tensor)\n",
    "        if target_class is None:\n",
    "            target_class = output.argmax(dim=1).item()\n",
    "\n",
    "        # Backward pass\n",
    "        self.model.zero_grad()\n",
    "        class_score = output[0, target_class]\n",
    "        class_score.backward()\n",
    "\n",
    "        # Get the gradients and activations\n",
    "        gradients = self.gradients[0].cpu().data.numpy()[0]\n",
    "        activations = self.activations[0].cpu().data.numpy()[0]\n",
    "\n",
    "        # Compute weights\n",
    "        weights = np.mean(gradients, axis=(1, 2))\n",
    "\n",
    "        # Compute CAM\n",
    "        cam = np.zeros(activations.shape[1:], dtype=np.float32)\n",
    "        for i, w in enumerate(weights):\n",
    "            cam += w * activations[i]\n",
    "\n",
    "        cam = np.maximum(cam, 0)\n",
    "        cam -= cam.min()\n",
    "        cam /= cam.max() if cam.max() != 0 else 1\n",
    "        cam = cv2.resize(cam, (input_tensor.shape[2], input_tensor.shape[3]))\n",
    "\n",
    "        return cam, target_class\n",
    "\n",
    "    def visualize(self, input_tensor, cam, unnormalize=True):\n",
    "        img = input_tensor.cpu().squeeze().permute(1, 2, 0).numpy()\n",
    "        if unnormalize:\n",
    "            img = (img * 0.5) + 0.5  # if you used Normalize(mean=0.5, std=0.5)\n",
    "\n",
    "        img = np.clip(img, 0, 1)\n",
    "        heatmap = cv2.applyColorMap(np.uint8(255 * cam), cv2.COLORMAP_JET)\n",
    "        heatmap = np.float32(heatmap) / 255\n",
    "        overlay = heatmap + img\n",
    "        overlay = overlay / np.max(overlay)\n",
    "\n",
    "        # Plotting\n",
    "        plt.figure(figsize=(12, 4))\n",
    "        plt.subplot(1, 3, 1)\n",
    "        plt.title(\"Original\")\n",
    "        plt.imshow(img)\n",
    "        plt.axis('off')\n",
    "\n",
    "        plt.subplot(1, 3, 2)\n",
    "        plt.title(\"Grad-CAM\")\n",
    "        plt.imshow(cam, cmap='jet')\n",
    "        plt.axis('off')\n",
    "\n",
    "        plt.subplot(1, 3, 3)\n",
    "        plt.title(\"Overlay\")\n",
    "        plt.imshow(overlay)\n",
    "        plt.axis('off')\n",
    "\n",
    "        plt.tight_layout()\n",
    "        plt.show()"
   ]
  },
  {
   "cell_type": "code",
   "execution_count": 75,
   "id": "3af41c7e",
   "metadata": {},
   "outputs": [
    {
     "name": "stdout",
     "output_type": "stream",
     "text": [
      "Conv2d(512, 512, kernel_size=(3, 3), stride=(1, 1), padding=(1, 1))\n"
     ]
    },
    {
     "ename": "RuntimeError",
     "evalue": "Cannot use both regular backward hooks and full backward hooks on a single Module. Please use only one of them.",
     "output_type": "error",
     "traceback": [
      "\u001b[31m---------------------------------------------------------------------------\u001b[39m",
      "\u001b[31mRuntimeError\u001b[39m                              Traceback (most recent call last)",
      "\u001b[36mCell\u001b[39m\u001b[36m \u001b[39m\u001b[32mIn[75]\u001b[39m\u001b[32m, line 6\u001b[39m\n\u001b[32m      3\u001b[39m \u001b[38;5;28mprint\u001b[39m(target_layer)\n\u001b[32m      5\u001b[39m \u001b[38;5;66;03m# Initialize GradCAM\u001b[39;00m\n\u001b[32m----> \u001b[39m\u001b[32m6\u001b[39m grad_cam = GradCAM(model, target_layer)\n\u001b[32m      8\u001b[39m \u001b[38;5;66;03m# Run on one sample\u001b[39;00m\n\u001b[32m      9\u001b[39m image, label = test_dataset[\u001b[32m0\u001b[39m]  \u001b[38;5;66;03m# image should be a tensor\u001b[39;00m\n",
      "\u001b[36mCell\u001b[39m\u001b[36m \u001b[39m\u001b[32mIn[72]\u001b[39m\u001b[32m, line 8\u001b[39m, in \u001b[36mGradCAM.__init__\u001b[39m\u001b[34m(self, model, target_layer)\u001b[39m\n\u001b[32m      5\u001b[39m \u001b[38;5;28mself\u001b[39m.gradients = []\n\u001b[32m      6\u001b[39m \u001b[38;5;28mself\u001b[39m.activations = []\n\u001b[32m----> \u001b[39m\u001b[32m8\u001b[39m \u001b[38;5;28mself\u001b[39m._register_hooks()\n",
      "\u001b[36mCell\u001b[39m\u001b[36m \u001b[39m\u001b[32mIn[72]\u001b[39m\u001b[32m, line 18\u001b[39m, in \u001b[36mGradCAM._register_hooks\u001b[39m\u001b[34m(self)\u001b[39m\n\u001b[32m     15\u001b[39m     \u001b[38;5;28mself\u001b[39m.gradients.append(grad_out[\u001b[32m0\u001b[39m])\n\u001b[32m     17\u001b[39m \u001b[38;5;28mself\u001b[39m.target_layer.register_forward_hook(forward_hook)\n\u001b[32m---> \u001b[39m\u001b[32m18\u001b[39m \u001b[38;5;28mself\u001b[39m.target_layer.register_full_backward_hook(backward_hook)\n",
      "\u001b[36mFile \u001b[39m\u001b[32m~/apps/miniconda3/envs/lidc_env/lib/python3.12/site-packages/torch/nn/modules/module.py:1481\u001b[39m, in \u001b[36mModule.register_full_backward_hook\u001b[39m\u001b[34m(self, hook, prepend)\u001b[39m\n\u001b[32m   1437\u001b[39m \u001b[38;5;250m\u001b[39m\u001b[33mr\u001b[39m\u001b[33;03m\"\"\"Register a backward hook on the module.\u001b[39;00m\n\u001b[32m   1438\u001b[39m \n\u001b[32m   1439\u001b[39m \u001b[33;03mThe hook will be called every time the gradients with respect to a module\u001b[39;00m\n\u001b[32m   (...)\u001b[39m\u001b[32m   1478\u001b[39m \n\u001b[32m   1479\u001b[39m \u001b[33;03m\"\"\"\u001b[39;00m\n\u001b[32m   1480\u001b[39m \u001b[38;5;28;01mif\u001b[39;00m \u001b[38;5;28mself\u001b[39m._is_full_backward_hook \u001b[38;5;129;01mis\u001b[39;00m \u001b[38;5;28;01mFalse\u001b[39;00m:\n\u001b[32m-> \u001b[39m\u001b[32m1481\u001b[39m     \u001b[38;5;28;01mraise\u001b[39;00m \u001b[38;5;167;01mRuntimeError\u001b[39;00m(\n\u001b[32m   1482\u001b[39m         \u001b[33m\"\u001b[39m\u001b[33mCannot use both regular backward hooks and full backward hooks on a \u001b[39m\u001b[33m\"\u001b[39m\n\u001b[32m   1483\u001b[39m         \u001b[33m\"\u001b[39m\u001b[33msingle Module. Please use only one of them.\u001b[39m\u001b[33m\"\u001b[39m\n\u001b[32m   1484\u001b[39m     )\n\u001b[32m   1486\u001b[39m \u001b[38;5;28mself\u001b[39m._is_full_backward_hook = \u001b[38;5;28;01mTrue\u001b[39;00m\n\u001b[32m   1488\u001b[39m handle = RemovableHandle(\u001b[38;5;28mself\u001b[39m._backward_hooks)\n",
      "\u001b[31mRuntimeError\u001b[39m: Cannot use both regular backward hooks and full backward hooks on a single Module. Please use only one of them."
     ]
    }
   ],
   "source": [
    "# Choose target layer (last conv in VGG-16)\n",
    "target_layer = model.features[28]\n",
    "print(target_layer)\n",
    "\n",
    "# Initialize GradCAM\n",
    "grad_cam = GradCAM(model, target_layer)\n",
    "\n",
    "# Run on one sample\n",
    "image, label = test_dataset[0]  # image should be a tensor\n",
    "cam, predicted_class = grad_cam.generate(image)\n",
    "\n",
    "# Show visualization\n",
    "grad_cam.visualize(image, cam)"
   ]
  },
  {
   "cell_type": "code",
   "execution_count": null,
   "id": "eb2feece",
   "metadata": {},
   "outputs": [],
   "source": []
  }
 ],
 "metadata": {
  "kernelspec": {
   "display_name": "lidc_env",
   "language": "python",
   "name": "python3"
  },
  "language_info": {
   "codemirror_mode": {
    "name": "ipython",
    "version": 3
   },
   "file_extension": ".py",
   "mimetype": "text/x-python",
   "name": "python",
   "nbconvert_exporter": "python",
   "pygments_lexer": "ipython3",
   "version": "3.12.2"
  }
 },
 "nbformat": 4,
 "nbformat_minor": 5
}
